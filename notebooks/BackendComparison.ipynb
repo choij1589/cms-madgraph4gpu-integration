{
 "cells": [
  {
   "cell_type": "code",
   "execution_count": 1,
   "metadata": {},
   "outputs": [
    {
     "name": "stdout",
     "output_type": "stream",
     "text": [
      "Welcome to JupyROOT 6.30/04\n"
     ]
    }
   ],
   "source": [
    "import json\n",
    "import ROOT\n",
    "import numpy as np\n",
    "import tdrstyle"
   ]
  },
  {
   "cell_type": "code",
   "execution_count": 7,
   "metadata": {},
   "outputs": [
    {
     "name": "stdout",
     "output_type": "stream",
     "text": [
      "dict_keys(['DY01234j-Simplified-FORTRAN', 'DY01234j-Simplified-CPP', 'DY01234j-Simplified-CUDA'])\n"
     ]
    }
   ],
   "source": [
    "# Get the timing results\n",
    "PROCESS = \"DY01234j-Simplified\"\n",
    "WORKDIR = \"/home/choij/workspace/cms-madgraph4gpu-integration\"\n",
    "\n",
    "with open(f\"{WORKDIR}/results/EvtGen.json\") as f:\n",
    "    data = json.load(f)\n",
    "\n",
    "# Filter out the process\n",
    "dataset = {key: data[key] for key in data if PROCESS in key}\n",
    "# Remove if \"MULTIBACKEND\" is in the key\n",
    "dataset = {key: dataset[key] for key in dataset if \"MULTIBACKEND\" not in key}\n",
    "print(dataset.keys())"
   ]
  },
  {
   "cell_type": "code",
   "execution_count": 8,
   "metadata": {},
   "outputs": [
    {
     "name": "stderr",
     "output_type": "stream",
     "text": [
      "Warning in <TCanvas::Constructor>: Deleting canvas with same name: canvas\n",
      "Info in <TCanvas::Print>: pdf file /home/choij/workspace/cms-madgraph4gpu-integration/plots/BackendComparison_DY01234j-Simplified.pdf has been created\n"
     ]
    }
   ],
   "source": [
    "# Make a canvas\n",
    "tdrstyle.setTDRStyle()\n",
    "ROOT.gStyle.SetAxisMaxDigits(3)\n",
    "canvas = ROOT.TCanvas(\"canvas\", PROCESS, 800, 800)\n",
    "labels = list(dataset.keys())\n",
    "colors = [ROOT.kBlack, ROOT.kRed, ROOT.kBlue]\n",
    "mg = ROOT.TMultiGraph()\n",
    "\n",
    "for i, (label, dataset) in enumerate(dataset.items()):\n",
    "    nevt_values = sorted(map(int, dataset.keys()))\n",
    "    time_values = np.array([dataset[str(nevt)][0] for nevt in nevt_values], dtype='double')\n",
    "    error_values = np.array([dataset[str(nevt)][1] for nevt in nevt_values], dtype='double')\n",
    "    nevt_array = np.array(nevt_values, dtype='double')\n",
    "    zero_array = np.zeros(len(nevt_values), dtype='double')\n",
    "    \n",
    "    graph = ROOT.TGraphErrors(len(nevt_values), nevt_array, time_values, zero_array, error_values)\n",
    "    \n",
    "    # Set graph style\n",
    "    graph.SetTitle(label.split(\"-\")[-1])\n",
    "    graph.SetMarkerColor(colors[i])\n",
    "    graph.SetMarkerStyle(20+i)\n",
    "    graph.SetMarkerSize(1.5)\n",
    "    graph.SetLineColor(colors[i])\n",
    "    graph.SetLineWidth(2)\n",
    "    \n",
    "    mg.Add(graph)\n",
    "\n",
    "# Set axis labels\n",
    "mg.GetXaxis().SetTitle(\"Number of events\")\n",
    "mg.GetXaxis().SetRangeUser(0, 300000)\n",
    "mg.GetXaxis().SetNoExponent()\n",
    "mg.GetXaxis().SetMoreLogLabels()\n",
    "#mg.GetXaxis().SetTitleOffset(1.1)\n",
    "mg.GetYaxis().SetTitle(\"Avg. Time (sec)\")\n",
    "# find the maximum value of y\n",
    "max_y = max([graph.GetY()[i] + graph.GetErrorYhigh(i) for graph in mg.GetListOfGraphs() for i in range(graph.GetN())])\n",
    "mg.GetYaxis().SetRangeUser(0, max_y * 1.4)\n",
    "#mg.GetYaxis().SetTitleOffset(1.2)\n",
    "\n",
    "canvas.cd()\n",
    "# Draw with line\n",
    "mg.Draw(\"ALP\")\n",
    "legend = canvas.BuildLegend()\n",
    "legend.SetX1(0.7)\n",
    "legend.SetY1(0.75)\n",
    "legend.SetX2(0.92)\n",
    "legend.SetY2(0.92)\n",
    "\n",
    "t = ROOT.gStyle.GetPadTopMargin()\n",
    "tmpTextSize=0.75*t\n",
    "latex = ROOT.TLatex()\n",
    "latex.SetTextSize(tmpTextSize)\n",
    "textSize = latex.GetTextSize()\n",
    "\n",
    "latex.SetTextFont(42)\n",
    "latex.SetTextSize(textSize*0.6/0.75)\n",
    "latex.DrawLatexNDC(0.845, 0.954, \"13.6 TeV\")\n",
    "\n",
    "latex.SetTextFont(61)\n",
    "latex.SetTextSize(textSize)\n",
    "latex.DrawLatexNDC(0.202, 0.88, \"CMS\")\n",
    "\n",
    "latex.SetTextFont(52)\n",
    "latex.SetTextSize(textSize*0.76)\n",
    "latex.DrawLatexNDC(0.202, 0.83, \"Simulation\")\n",
    "latex.DrawLatexNDC(0.282, 0.88, \"Preliminary\")\n",
    "\n",
    "\n",
    "canvas.Draw()\n",
    "canvas.SaveAs(f\"{WORKDIR}/plots/BackendComparison_{PROCESS}.pdf\")"
   ]
  },
  {
   "cell_type": "code",
   "execution_count": null,
   "metadata": {},
   "outputs": [],
   "source": []
  },
  {
   "cell_type": "code",
   "execution_count": null,
   "metadata": {},
   "outputs": [],
   "source": []
  }
 ],
 "metadata": {
  "kernelspec": {
   "display_name": "pyg",
   "language": "python",
   "name": "python3"
  },
  "language_info": {
   "codemirror_mode": {
    "name": "ipython",
    "version": 3
   },
   "file_extension": ".py",
   "mimetype": "text/x-python",
   "name": "python",
   "nbconvert_exporter": "python",
   "pygments_lexer": "ipython3",
   "version": "3.11.10"
  }
 },
 "nbformat": 4,
 "nbformat_minor": 2
}
